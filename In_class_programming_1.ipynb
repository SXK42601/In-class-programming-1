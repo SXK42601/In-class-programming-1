{
  "nbformat": 4,
  "nbformat_minor": 0,
  "metadata": {
    "colab": {
      "provenance": []
    },
    "kernelspec": {
      "name": "python3",
      "display_name": "Python 3"
    },
    "language_info": {
      "name": "python"
    }
  },
  "cells": [
    {
      "cell_type": "code",
      "source": [
        "# Input the string as a list of characters\n",
        "input_string = list(input(\"Enter a string: \"))\n",
        "\n",
        "# Ensure the input string has at least 2 characters\n",
        "if len(input_string) < 2:\n",
        "    print(\"Input string must have at least 2 characters.\")\n",
        "else:\n",
        "    # Delete the last two elements\n",
        "    del input_string[-2:]\n",
        "\n",
        "    # Reverse the resultant string\n",
        "    input_string.reverse()\n",
        "\n",
        "    # Print the final result\n",
        "    print(\"Modified and reversed string:\", ''.join(input_string))\n"
      ],
      "metadata": {
        "colab": {
          "base_uri": "https://localhost:8080/"
        },
        "id": "Qv7YMnDXGRGG",
        "outputId": "bc7e202e-2a7b-48b7-abaa-02447d87d42a"
      },
      "execution_count": 3,
      "outputs": [
        {
          "output_type": "stream",
          "name": "stdout",
          "text": [
            "Enter a string: python\n",
            "Modified and reversed string: htyp\n"
          ]
        }
      ]
    },
    {
      "cell_type": "code",
      "source": [],
      "metadata": {
        "id": "HOQdfl9JMyLW"
      },
      "execution_count": null,
      "outputs": []
    },
    {
      "cell_type": "code",
      "source": [],
      "metadata": {
        "id": "o171YUwWMv0w"
      },
      "execution_count": null,
      "outputs": []
    },
    {
      "cell_type": "code",
      "source": [
        "# Input two numbers from the user\n",
        "num1 = float(input(\"Enter the first number: \"))\n",
        "num2 = float(input(\"Enter the second number: \"))\n",
        "\n",
        "# Perform arithmetic operations\n",
        "addition = num1 + num2\n",
        "subtraction = num1 - num2\n",
        "multiplication = num1 * num2\n",
        "\n",
        "# Avoid division by zero\n",
        "if num2 != 0:\n",
        "    division = num1 / num2\n",
        "else:\n",
        "    division = \"Cannot divide by zero\"\n",
        "\n",
        "# Display the results\n",
        "print(\"Addition:\", addition)\n",
        "print(\"Subtraction:\", subtraction)\n",
        "print(\"Multiplication:\", multiplication)\n",
        "print(\"Division:\", division)\n"
      ],
      "metadata": {
        "colab": {
          "base_uri": "https://localhost:8080/"
        },
        "id": "_JC2sWm7G8MY",
        "outputId": "3dc29eaa-af78-4089-dae2-9a6b6d9414e4"
      },
      "execution_count": 4,
      "outputs": [
        {
          "output_type": "stream",
          "name": "stdout",
          "text": [
            "Enter the first number: 12\n",
            "Enter the second number: 13\n",
            "Addition: 25.0\n",
            "Subtraction: -1.0\n",
            "Multiplication: 156.0\n",
            "Division: 0.9230769230769231\n"
          ]
        }
      ]
    },
    {
      "cell_type": "code",
      "source": [
        "\n",
        "sentence = input(\"Enter a sentence: \")\n",
        "\n",
        "# Replace 'python' with 'pythons'\n",
        "modified_sentence = sentence.replace('python', 'pythons')\n",
        "\n",
        "# Display the modified sentence\n",
        "print(\"Modified sentence:\", modified_sentence)\n"
      ],
      "metadata": {
        "colab": {
          "base_uri": "https://localhost:8080/"
        },
        "id": "peLNMbkdHNsk",
        "outputId": "ce3feafb-af0b-4187-adb8-b13dbebd91de"
      },
      "execution_count": 5,
      "outputs": [
        {
          "output_type": "stream",
          "name": "stdout",
          "text": [
            "Enter a sentence: I love playing with python\n",
            "Modified sentence: I love playing with pythons\n"
          ]
        }
      ]
    },
    {
      "cell_type": "code",
      "source": [
        "# Input the class score from the user\n",
        "class_score = float(input(\"Enter the class score: \"))\n",
        "\n",
        "# Determine the letter grade based on the score\n",
        "if 90 <= class_score <= 100:\n",
        "    letter_grade = 'A'\n",
        "elif 80 <= class_score < 90:\n",
        "    letter_grade = 'B'\n",
        "elif 70 <= class_score < 80:\n",
        "    letter_grade = 'C'\n",
        "elif 60 <= class_score < 70:\n",
        "    letter_grade = 'D'\n",
        "else:\n",
        "    letter_grade = 'F'\n",
        "\n",
        "# Display the letter grade\n",
        "print(\"Letter grade:\", letter_grade)\n"
      ],
      "metadata": {
        "colab": {
          "base_uri": "https://localhost:8080/"
        },
        "id": "ZMnvVXhUHjbo",
        "outputId": "390b3f7f-e31c-425e-b758-cbb0ea49a8d0"
      },
      "execution_count": 7,
      "outputs": [
        {
          "output_type": "stream",
          "name": "stdout",
          "text": [
            "Enter the class score: 93\n",
            "Letter grade: A\n"
          ]
        }
      ]
    }
  ]
}